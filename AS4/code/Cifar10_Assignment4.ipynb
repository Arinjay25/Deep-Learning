{
 "cells": [
  {
   "cell_type": "code",
   "execution_count": 1,
   "metadata": {
    "colab": {
     "base_uri": "https://localhost:8080/",
     "height": 34
    },
    "colab_type": "code",
    "id": "92CcYvsEcRJp",
    "outputId": "d06bdc6c-7055-449d-cc90-48ba69ada6ba"
   },
   "outputs": [
    {
     "name": "stderr",
     "output_type": "stream",
     "text": [
      "Using TensorFlow backend.\n",
      "C:\\ProgramData\\Anaconda3\\lib\\site-packages\\tensorflow\\python\\framework\\dtypes.py:516: FutureWarning: Passing (type, 1) or '1type' as a synonym of type is deprecated; in a future version of numpy, it will be understood as (type, (1,)) / '(1,)type'.\n",
      "  _np_qint8 = np.dtype([(\"qint8\", np.int8, 1)])\n",
      "C:\\ProgramData\\Anaconda3\\lib\\site-packages\\tensorflow\\python\\framework\\dtypes.py:517: FutureWarning: Passing (type, 1) or '1type' as a synonym of type is deprecated; in a future version of numpy, it will be understood as (type, (1,)) / '(1,)type'.\n",
      "  _np_quint8 = np.dtype([(\"quint8\", np.uint8, 1)])\n",
      "C:\\ProgramData\\Anaconda3\\lib\\site-packages\\tensorflow\\python\\framework\\dtypes.py:518: FutureWarning: Passing (type, 1) or '1type' as a synonym of type is deprecated; in a future version of numpy, it will be understood as (type, (1,)) / '(1,)type'.\n",
      "  _np_qint16 = np.dtype([(\"qint16\", np.int16, 1)])\n",
      "C:\\ProgramData\\Anaconda3\\lib\\site-packages\\tensorflow\\python\\framework\\dtypes.py:519: FutureWarning: Passing (type, 1) or '1type' as a synonym of type is deprecated; in a future version of numpy, it will be understood as (type, (1,)) / '(1,)type'.\n",
      "  _np_quint16 = np.dtype([(\"quint16\", np.uint16, 1)])\n",
      "C:\\ProgramData\\Anaconda3\\lib\\site-packages\\tensorflow\\python\\framework\\dtypes.py:520: FutureWarning: Passing (type, 1) or '1type' as a synonym of type is deprecated; in a future version of numpy, it will be understood as (type, (1,)) / '(1,)type'.\n",
      "  _np_qint32 = np.dtype([(\"qint32\", np.int32, 1)])\n",
      "C:\\ProgramData\\Anaconda3\\lib\\site-packages\\tensorflow\\python\\framework\\dtypes.py:525: FutureWarning: Passing (type, 1) or '1type' as a synonym of type is deprecated; in a future version of numpy, it will be understood as (type, (1,)) / '(1,)type'.\n",
      "  np_resource = np.dtype([(\"resource\", np.ubyte, 1)])\n",
      "C:\\ProgramData\\Anaconda3\\lib\\site-packages\\tensorboard\\compat\\tensorflow_stub\\dtypes.py:541: FutureWarning: Passing (type, 1) or '1type' as a synonym of type is deprecated; in a future version of numpy, it will be understood as (type, (1,)) / '(1,)type'.\n",
      "  _np_qint8 = np.dtype([(\"qint8\", np.int8, 1)])\n",
      "C:\\ProgramData\\Anaconda3\\lib\\site-packages\\tensorboard\\compat\\tensorflow_stub\\dtypes.py:542: FutureWarning: Passing (type, 1) or '1type' as a synonym of type is deprecated; in a future version of numpy, it will be understood as (type, (1,)) / '(1,)type'.\n",
      "  _np_quint8 = np.dtype([(\"quint8\", np.uint8, 1)])\n",
      "C:\\ProgramData\\Anaconda3\\lib\\site-packages\\tensorboard\\compat\\tensorflow_stub\\dtypes.py:543: FutureWarning: Passing (type, 1) or '1type' as a synonym of type is deprecated; in a future version of numpy, it will be understood as (type, (1,)) / '(1,)type'.\n",
      "  _np_qint16 = np.dtype([(\"qint16\", np.int16, 1)])\n",
      "C:\\ProgramData\\Anaconda3\\lib\\site-packages\\tensorboard\\compat\\tensorflow_stub\\dtypes.py:544: FutureWarning: Passing (type, 1) or '1type' as a synonym of type is deprecated; in a future version of numpy, it will be understood as (type, (1,)) / '(1,)type'.\n",
      "  _np_quint16 = np.dtype([(\"quint16\", np.uint16, 1)])\n",
      "C:\\ProgramData\\Anaconda3\\lib\\site-packages\\tensorboard\\compat\\tensorflow_stub\\dtypes.py:545: FutureWarning: Passing (type, 1) or '1type' as a synonym of type is deprecated; in a future version of numpy, it will be understood as (type, (1,)) / '(1,)type'.\n",
      "  _np_qint32 = np.dtype([(\"qint32\", np.int32, 1)])\n",
      "C:\\ProgramData\\Anaconda3\\lib\\site-packages\\tensorboard\\compat\\tensorflow_stub\\dtypes.py:550: FutureWarning: Passing (type, 1) or '1type' as a synonym of type is deprecated; in a future version of numpy, it will be understood as (type, (1,)) / '(1,)type'.\n",
      "  np_resource = np.dtype([(\"resource\", np.ubyte, 1)])\n"
     ]
    }
   ],
   "source": [
    "import glob\n",
    "from keras.preprocessing import image\n",
    "from keras.preprocessing.image import ImageDataGenerator, array_to_img\n",
    "import numpy as np\n",
    "from keras.layers.merge import _Merge\n",
    "from keras.layers import Input, Dense, Reshape, Flatten, Dropout, Concatenate\n",
    "from keras.layers import BatchNormalization, Activation, MaxPooling2D, Add\n",
    "from keras.layers.advanced_activations import LeakyReLU\n",
    "from keras.layers.convolutional import UpSampling2D, Conv2D\n",
    "from keras.models import Sequential, Model\n",
    "from keras.optimizers import RMSprop, Adam\n",
    "import keras.backend as K\n",
    "import matplotlib.pyplot as plt\n",
    "import pickle\n",
    "from sklearn.model_selection import train_test_split\n",
    "from keras.utils import to_categorical"
   ]
  },
  {
   "cell_type": "code",
   "execution_count": 3,
   "metadata": {
    "colab": {
     "base_uri": "https://localhost:8080/",
     "height": 170
    },
    "colab_type": "code",
    "id": "hDbNNoWdcbJZ",
    "outputId": "ace7a386-e44b-4d82-f3b2-4a2116850c7d"
   },
   "outputs": [
    {
     "name": "stderr",
     "output_type": "stream",
     "text": [
      "x cifar-10-batches-py/\n",
      "x cifar-10-batches-py/data_batch_4\n",
      "x cifar-10-batches-py/readme.html\n",
      "x cifar-10-batches-py/test_batch\n",
      "x cifar-10-batches-py/data_batch_3\n",
      "x cifar-10-batches-py/batches.meta\n",
      "x cifar-10-batches-py/data_batch_2\n",
      "x cifar-10-batches-py/data_batch_5\n",
      "x cifar-10-batches-py/data_batch_1\n"
     ]
    }
   ],
   "source": [
    "!tar -xvf cifar-10-python.tar"
   ]
  },
  {
   "cell_type": "code",
   "execution_count": 4,
   "metadata": {
    "colab": {},
    "colab_type": "code",
    "id": "1gDFkUfrciWd"
   },
   "outputs": [],
   "source": [
    "def unpickle(file):\n",
    "    with open(file, 'rb') as fo:\n",
    "        dict = pickle.load(fo, encoding='bytes')\n",
    "    return dict"
   ]
  },
  {
   "cell_type": "code",
   "execution_count": 6,
   "metadata": {
    "colab": {},
    "colab_type": "code",
    "id": "L3fltJThc798"
   },
   "outputs": [],
   "source": [
    "cifar_data = []\n",
    "for file in glob.glob(\"cifar-10-batches-py/data_batch_*\"):\n",
    "  batch = unpickle(file)\n",
    "  cifar_data.append(batch)"
   ]
  },
  {
   "cell_type": "code",
   "execution_count": 9,
   "metadata": {
    "colab": {
     "base_uri": "https://localhost:8080/",
     "height": 51
    },
    "colab_type": "code",
    "id": "B98eV949dpWy",
    "outputId": "6f1affea-e4a9-4576-829e-760936e76b12"
   },
   "outputs": [],
   "source": [
    "from keras.datasets import cifar10\n",
    "\n",
    "(x_train, y_train), (x_test, y_test) = cifar10.load_data()\n",
    "x_train, x_val, y_train, y_val = train_test_split(x_train, y_train, test_size=0.2, random_state=42)\n",
    "\n",
    "y_train = to_categorical(y_train)\n",
    "y_test = to_categorical(y_test)\n",
    "y_val = to_categorical(y_val)"
   ]
  },
  {
   "cell_type": "code",
   "execution_count": 22,
   "metadata": {
    "colab": {},
    "colab_type": "code",
    "id": "DR2-4A0kgIKV"
   },
   "outputs": [],
   "source": [
    "class cifar_cnn():\n",
    "  \n",
    "  def __init__(self):\n",
    "    self.img_shape = (32, 32, 3)\n",
    "    self.epochs = 30\n",
    "    \n",
    "    \n",
    "    \n",
    "    self.model = self.build_cnn_model()\n",
    "    self.model.compile('RMSProp', loss = 'categorical_crossentropy', metrics = ['accuracy'])\n",
    "    \n",
    "    \n",
    "  def build_cnn_model(self):\n",
    "    img = Input(shape = self.img_shape)\n",
    "    \n",
    "    inception1 = Conv2D(32, kernel_size=1, strides=1, input_shape=self.img_shape, padding = 'same')(img)\n",
    "    hid1 = LeakyReLU()(inception1)\n",
    "    hid1 = MaxPooling2D((2,2))(hid1)\n",
    "    hid1 = Dropout(0.2)(hid1)\n",
    "    hid1 = BatchNormalization()(hid1)\n",
    "    print(hid1)\n",
    "    \n",
    "    inception2 = Conv2D(32, kernel_size=3, strides=1, input_shape=self.img_shape, padding = 'same')(img)\n",
    "    hid2 = LeakyReLU()(inception2)\n",
    "    hid2 = MaxPooling2D((2,2))(hid2)\n",
    "    hid2 = Dropout(0.2)(hid2)\n",
    "    hid2 = BatchNormalization()(hid2)\n",
    "    print(hid2)\n",
    "    \n",
    "    inception3 = Conv2D(32, kernel_size=5, strides=1, input_shape=self.img_shape, padding = 'same')(img)\n",
    "    hid3 = LeakyReLU()(inception3)\n",
    "    hid3 = MaxPooling2D((2,2))(hid3)\n",
    "    hid3 = Dropout(0.2)(hid3)\n",
    "    hid3 = BatchNormalization()(hid3)\n",
    "    print(hid3)\n",
    "    \n",
    "\n",
    "    \n",
    "    hid = Concatenate()([hid1, hid2, hid3])\n",
    "    print(hid)\n",
    "    hid = Conv2D(64, kernel_size=1, strides=1, padding = 'same')(hid)\n",
    "    hid = LeakyReLU()(hid)\n",
    "    hid = MaxPooling2D((2,2))(hid)\n",
    "    hid = Dropout(0.2)(hid)\n",
    "    hid = BatchNormalization()(hid)\n",
    "    \n",
    "    hid = Conv2D(128, kernel_size=3, strides=1, padding = 'same')(hid)\n",
    "    hid = LeakyReLU()(hid)\n",
    "    hid = MaxPooling2D((2,2))(hid)\n",
    "    hid = Dropout(0.2)(hid)\n",
    "    hid = BatchNormalization()(hid)\n",
    "    \n",
    "    \n",
    "    hid = Flatten()(hid)\n",
    "    hid = Dropout(0.2)(hid)\n",
    "    \n",
    "    validity = Dense(10, activation=\"softmax\")(hid)\n",
    "\n",
    "    return Model(img, validity)\n",
    "  \n",
    "  def train(self, x_train, y_train, x_val, y_val):\n",
    "    \n",
    "    history = self.model.fit(x_train,y_train,\n",
    "                             epochs = self.epochs,\n",
    "                             validation_data = (x_val, y_val))\n",
    "    self.plot_progress(history)\n",
    "    \n",
    "  def plot_progress(self, history):\n",
    "      history_dict = history.history\n",
    "      accuracy = history_dict['accuracy']\n",
    "      val_accuracy = history_dict['val_accuracy']\n",
    "      loss = history_dict['loss']\n",
    "      val_loss = history_dict['val_loss']\n",
    "\n",
    "      fig = plt.figure(figsize=(15,7))\n",
    "      plt.subplot(1,2,1)\n",
    "      plt.plot(range(self.epochs), accuracy, 'r', label = 'Train Accuracy')\n",
    "      plt.plot(range(self.epochs), val_accuracy, 'b', label = 'Validation Accuracy')\n",
    "      plt.legend()\n",
    "\n",
    "      plt.subplot(1,2,2)\n",
    "      plt.plot(range(self.epochs), loss, 'r', label = 'Train Loss')\n",
    "      plt.plot(range(self.epochs), val_loss, 'b', label = 'Validation Loss')\n",
    "\n",
    "      plt.legend()\n",
    "      plt.show()\n",
    "\n",
    "    \n",
    "    "
   ]
  },
  {
   "cell_type": "code",
   "execution_count": 20,
   "metadata": {
    "colab": {
     "base_uri": "https://localhost:8080/",
     "height": 85
    },
    "colab_type": "code",
    "id": "x2qMbMLvhJIy",
    "outputId": "09b1bfbd-2d86-41e5-c1de-76b1fc80e728"
   },
   "outputs": [
    {
     "name": "stdout",
     "output_type": "stream",
     "text": [
      "Tensor(\"batch_normalization_11/cond/Merge:0\", shape=(?, 16, 16, 32), dtype=float32)\n",
      "Tensor(\"batch_normalization_12/cond/Merge:0\", shape=(?, 16, 16, 32), dtype=float32)\n",
      "Tensor(\"batch_normalization_13/cond/Merge:0\", shape=(?, 16, 16, 32), dtype=float32)\n",
      "Tensor(\"concatenate_2/concat:0\", shape=(?, 16, 16, 96), dtype=float32)\n"
     ]
    }
   ],
   "source": [
    "cifar = cifar_cnn()"
   ]
  },
  {
   "cell_type": "code",
   "execution_count": 23,
   "metadata": {
    "colab": {
     "base_uri": "https://localhost:8080/",
     "height": 1469
    },
    "colab_type": "code",
    "id": "kDgvKGFvhMcF",
    "outputId": "9a30dfb5-4a78-4266-d3e2-d755855fa7f0"
   },
   "outputs": [
    {
     "name": "stdout",
     "output_type": "stream",
     "text": [
      "Train on 40000 samples, validate on 10000 samples\n",
      "Epoch 1/30\n",
      "40000/40000 [==============================] - 247s 6ms/step - loss: 1.6790 - accuracy: 0.4407 - val_loss: 1.3579 - val_accuracy: 0.5177\n",
      "Epoch 2/30\n",
      "40000/40000 [==============================] - 231s 6ms/step - loss: 1.2223 - accuracy: 0.5757 - val_loss: 1.0952 - val_accuracy: 0.6106\n",
      "Epoch 3/30\n",
      "40000/40000 [==============================] - 240s 6ms/step - loss: 1.0616 - accuracy: 0.6321 - val_loss: 1.0704 - val_accuracy: 0.6285\n",
      "Epoch 4/30\n",
      "40000/40000 [==============================] - 231s 6ms/step - loss: 0.9800 - accuracy: 0.6606 - val_loss: 0.8947 - val_accuracy: 0.6870\n",
      "Epoch 5/30\n",
      "40000/40000 [==============================] - 230s 6ms/step - loss: 0.9086 - accuracy: 0.6848 - val_loss: 0.9301 - val_accuracy: 0.6782\n",
      "Epoch 6/30\n",
      "40000/40000 [==============================] - 230s 6ms/step - loss: 0.8713 - accuracy: 0.6988 - val_loss: 1.2288 - val_accuracy: 0.6051\n",
      "Epoch 7/30\n",
      "40000/40000 [==============================] - 242s 6ms/step - loss: 0.8438 - accuracy: 0.7095 - val_loss: 0.8777 - val_accuracy: 0.7038\n",
      "Epoch 8/30\n",
      "40000/40000 [==============================] - 233s 6ms/step - loss: 0.8112 - accuracy: 0.7194 - val_loss: 1.2696 - val_accuracy: 0.5933\n",
      "Epoch 9/30\n",
      "40000/40000 [==============================] - 222s 6ms/step - loss: 0.7871 - accuracy: 0.7266 - val_loss: 0.7967 - val_accuracy: 0.7326\n",
      "Epoch 10/30\n",
      "40000/40000 [==============================] - 232s 6ms/step - loss: 0.7681 - accuracy: 0.7343 - val_loss: 0.7905 - val_accuracy: 0.7310\n",
      "Epoch 11/30\n",
      "40000/40000 [==============================] - 237s 6ms/step - loss: 0.7559 - accuracy: 0.7387 - val_loss: 0.8120 - val_accuracy: 0.7140\n",
      "Epoch 12/30\n",
      "40000/40000 [==============================] - 230s 6ms/step - loss: 0.7459 - accuracy: 0.7417 - val_loss: 0.7644 - val_accuracy: 0.7386\n",
      "Epoch 13/30\n",
      "40000/40000 [==============================] - 250s 6ms/step - loss: 0.7264 - accuracy: 0.7479 - val_loss: 0.7740 - val_accuracy: 0.7306\n",
      "Epoch 14/30\n",
      "40000/40000 [==============================] - 248s 6ms/step - loss: 0.7188 - accuracy: 0.7544 - val_loss: 1.0328 - val_accuracy: 0.6743\n",
      "Epoch 15/30\n",
      "40000/40000 [==============================] - 248s 6ms/step - loss: 0.7049 - accuracy: 0.7553 - val_loss: 0.8408 - val_accuracy: 0.7124\n",
      "Epoch 16/30\n",
      "40000/40000 [==============================] - 254s 6ms/step - loss: 0.6988 - accuracy: 0.7566 - val_loss: 0.8721 - val_accuracy: 0.7041\n",
      "Epoch 17/30\n",
      "40000/40000 [==============================] - 241s 6ms/step - loss: 0.6916 - accuracy: 0.7608 - val_loss: 0.7728 - val_accuracy: 0.7387\n",
      "Epoch 18/30\n",
      "40000/40000 [==============================] - 237s 6ms/step - loss: 0.6783 - accuracy: 0.7650 - val_loss: 0.8211 - val_accuracy: 0.7215\n",
      "Epoch 19/30\n",
      "40000/40000 [==============================] - 257s 6ms/step - loss: 0.6751 - accuracy: 0.7679 - val_loss: 0.7403 - val_accuracy: 0.7492\n",
      "Epoch 20/30\n",
      "40000/40000 [==============================] - 251s 6ms/step - loss: 0.6660 - accuracy: 0.7708 - val_loss: 0.9928 - val_accuracy: 0.6732\n",
      "Epoch 21/30\n",
      "40000/40000 [==============================] - 241s 6ms/step - loss: 0.6589 - accuracy: 0.7743 - val_loss: 0.7737 - val_accuracy: 0.7385\n",
      "Epoch 22/30\n",
      "40000/40000 [==============================] - 250s 6ms/step - loss: 0.6562 - accuracy: 0.7703 - val_loss: 0.7804 - val_accuracy: 0.7367\n",
      "Epoch 23/30\n",
      "40000/40000 [==============================] - 256s 6ms/step - loss: 0.6476 - accuracy: 0.7775 - val_loss: 0.6795 - val_accuracy: 0.7711\n",
      "Epoch 24/30\n",
      "40000/40000 [==============================] - 252s 6ms/step - loss: 0.6378 - accuracy: 0.7800 - val_loss: 0.8408 - val_accuracy: 0.7140\n",
      "Epoch 25/30\n",
      "40000/40000 [==============================] - 239s 6ms/step - loss: 0.6449 - accuracy: 0.7756 - val_loss: 0.7768 - val_accuracy: 0.7325\n",
      "Epoch 26/30\n",
      "40000/40000 [==============================] - 257s 6ms/step - loss: 0.6351 - accuracy: 0.7794 - val_loss: 0.6583 - val_accuracy: 0.7783\n",
      "Epoch 27/30\n",
      "40000/40000 [==============================] - 275s 7ms/step - loss: 0.6299 - accuracy: 0.7819 - val_loss: 0.6718 - val_accuracy: 0.7706\n",
      "Epoch 28/30\n",
      "40000/40000 [==============================] - 252s 6ms/step - loss: 0.6229 - accuracy: 0.7836 - val_loss: 0.8692 - val_accuracy: 0.7182\n",
      "Epoch 29/30\n",
      "40000/40000 [==============================] - 258s 6ms/step - loss: 0.6207 - accuracy: 0.7859 - val_loss: 0.6808 - val_accuracy: 0.7689\n",
      "Epoch 30/30\n",
      "40000/40000 [==============================] - 250s 6ms/step - loss: 0.6170 - accuracy: 0.7877 - val_loss: 0.6923 - val_accuracy: 0.7644\n"
     ]
    },
    {
     "data": {
      "image/png": "[encoded data removed]",
      "text/plain": [
       "<Figure size 1080x504 with 2 Axes>"
      ]
     },
     "metadata": {
      "needs_background": "light"
     },
     "output_type": "display_data"
    }
   ],
   "source": [
    "cifar.train(x_train, y_train, x_val, y_val)"
   ]
  },
  {
   "cell_type": "code",
   "execution_count": 24,
   "metadata": {
    "colab": {
     "base_uri": "https://localhost:8080/",
     "height": 1003
    },
    "colab_type": "code",
    "id": "dhObeYSShp74",
    "outputId": "4a86f597-3a6e-4f5d-f5db-8944fd23f467"
   },
   "outputs": [
    {
     "name": "stdout",
     "output_type": "stream",
     "text": [
      "Model: \"model_3\"\n",
      "__________________________________________________________________________________________________\n",
      "Layer (type)                    Output Shape         Param #     Connected to                     \n",
      "==================================================================================================\n",
      "input_3 (InputLayer)            (None, 32, 32, 3)    0                                            \n",
      "__________________________________________________________________________________________________\n",
      "conv2d_11 (Conv2D)              (None, 32, 32, 32)   128         input_3[0][0]                    \n",
      "__________________________________________________________________________________________________\n",
      "conv2d_12 (Conv2D)              (None, 32, 32, 32)   896         input_3[0][0]                    \n",
      "__________________________________________________________________________________________________\n",
      "conv2d_13 (Conv2D)              (None, 32, 32, 32)   2432        input_3[0][0]                    \n",
      "__________________________________________________________________________________________________\n",
      "leaky_re_lu_11 (LeakyReLU)      (None, 32, 32, 32)   0           conv2d_11[0][0]                  \n",
      "__________________________________________________________________________________________________\n",
      "leaky_re_lu_12 (LeakyReLU)      (None, 32, 32, 32)   0           conv2d_12[0][0]                  \n",
      "__________________________________________________________________________________________________\n",
      "leaky_re_lu_13 (LeakyReLU)      (None, 32, 32, 32)   0           conv2d_13[0][0]                  \n",
      "__________________________________________________________________________________________________\n",
      "max_pooling2d_8 (MaxPooling2D)  (None, 16, 16, 32)   0           leaky_re_lu_11[0][0]             \n",
      "__________________________________________________________________________________________________\n",
      "max_pooling2d_9 (MaxPooling2D)  (None, 16, 16, 32)   0           leaky_re_lu_12[0][0]             \n",
      "__________________________________________________________________________________________________\n",
      "max_pooling2d_10 (MaxPooling2D) (None, 16, 16, 32)   0           leaky_re_lu_13[0][0]             \n",
      "__________________________________________________________________________________________________\n",
      "dropout_13 (Dropout)            (None, 16, 16, 32)   0           max_pooling2d_8[0][0]            \n",
      "__________________________________________________________________________________________________\n",
      "dropout_14 (Dropout)            (None, 16, 16, 32)   0           max_pooling2d_9[0][0]            \n",
      "__________________________________________________________________________________________________\n",
      "dropout_15 (Dropout)            (None, 16, 16, 32)   0           max_pooling2d_10[0][0]           \n",
      "__________________________________________________________________________________________________\n",
      "batch_normalization_11 (BatchNo (None, 16, 16, 32)   128         dropout_13[0][0]                 \n",
      "__________________________________________________________________________________________________\n",
      "batch_normalization_12 (BatchNo (None, 16, 16, 32)   128         dropout_14[0][0]                 \n",
      "__________________________________________________________________________________________________\n",
      "batch_normalization_13 (BatchNo (None, 16, 16, 32)   128         dropout_15[0][0]                 \n",
      "__________________________________________________________________________________________________\n",
      "concatenate_2 (Concatenate)     (None, 16, 16, 96)   0           batch_normalization_11[0][0]     \n",
      "                                                                 batch_normalization_12[0][0]     \n",
      "                                                                 batch_normalization_13[0][0]     \n",
      "__________________________________________________________________________________________________\n",
      "conv2d_14 (Conv2D)              (None, 16, 16, 64)   6208        concatenate_2[0][0]              \n",
      "__________________________________________________________________________________________________\n",
      "leaky_re_lu_14 (LeakyReLU)      (None, 16, 16, 64)   0           conv2d_14[0][0]                  \n",
      "__________________________________________________________________________________________________\n",
      "max_pooling2d_11 (MaxPooling2D) (None, 8, 8, 64)     0           leaky_re_lu_14[0][0]             \n",
      "__________________________________________________________________________________________________\n",
      "dropout_16 (Dropout)            (None, 8, 8, 64)     0           max_pooling2d_11[0][0]           \n",
      "__________________________________________________________________________________________________\n",
      "batch_normalization_14 (BatchNo (None, 8, 8, 64)     256         dropout_16[0][0]                 \n",
      "__________________________________________________________________________________________________\n",
      "conv2d_15 (Conv2D)              (None, 8, 8, 128)    73856       batch_normalization_14[0][0]     \n",
      "__________________________________________________________________________________________________\n",
      "leaky_re_lu_15 (LeakyReLU)      (None, 8, 8, 128)    0           conv2d_15[0][0]                  \n",
      "__________________________________________________________________________________________________\n",
      "max_pooling2d_12 (MaxPooling2D) (None, 4, 4, 128)    0           leaky_re_lu_15[0][0]             \n",
      "__________________________________________________________________________________________________\n",
      "dropout_17 (Dropout)            (None, 4, 4, 128)    0           max_pooling2d_12[0][0]           \n",
      "__________________________________________________________________________________________________\n",
      "batch_normalization_15 (BatchNo (None, 4, 4, 128)    512         dropout_17[0][0]                 \n",
      "__________________________________________________________________________________________________\n",
      "flatten_3 (Flatten)             (None, 2048)         0           batch_normalization_15[0][0]     \n",
      "__________________________________________________________________________________________________\n",
      "dropout_18 (Dropout)            (None, 2048)         0           flatten_3[0][0]                  \n",
      "__________________________________________________________________________________________________\n",
      "dense_3 (Dense)                 (None, 10)           20490       dropout_18[0][0]                 \n",
      "==================================================================================================\n",
      "Total params: 105,162\n",
      "Trainable params: 104,586\n",
      "Non-trainable params: 576\n",
      "__________________________________________________________________________________________________\n"
     ]
    }
   ],
   "source": [
    " cifar.model.summary()"
   ]
  },
  {
   "cell_type": "code",
   "execution_count": 25,
   "metadata": {
    "colab": {},
    "colab_type": "code",
    "id": "eCELDne3hsPC"
   },
   "outputs": [],
   "source": [
    "class cifar_residual_cnn():\n",
    "  \n",
    "  def __init__(self):\n",
    "    self.img_shape = (32, 32, 3)\n",
    "    self.epochs = 30\n",
    "    \n",
    "    \n",
    "    \n",
    "    self.model = self.build_cnn_model()\n",
    "    self.model.compile('RMSProp', loss = 'categorical_crossentropy', metrics = ['accuracy'])\n",
    "    \n",
    "    \n",
    "  def build_cnn_model(self):\n",
    "    img = Input(shape = self.img_shape)\n",
    "    \n",
    "    x = Conv2D(32, kernel_size=3, strides=1, input_shape=self.img_shape, padding = 'same')(img)\n",
    "    x = LeakyReLU()(x)\n",
    "    x = MaxPooling2D((2,2))(x)\n",
    "    x = Dropout(0.2)(x)\n",
    "    x = BatchNormalization()(x)\n",
    "    \n",
    "    hid1 = Conv2D(32, kernel_size=3, strides=1, input_shape=self.img_shape, padding = 'same')(x)\n",
    "    hid1 = LeakyReLU()(hid1)\n",
    "    #hid1 = MaxPooling2D((2,2))(hid1)\n",
    "    hid1 = Dropout(0.2)(hid1)\n",
    "    hid1 = BatchNormalization()(hid1)\n",
    "    \n",
    "    print(hid1)\n",
    "    res1 = Add()([hid1, x])\n",
    "    print(res1)\n",
    "    \n",
    "    \n",
    "    y = Conv2D(64, kernel_size=3, strides=1, padding = 'same')(res1)\n",
    "    y = LeakyReLU()(y)\n",
    "    y = MaxPooling2D((2,2))(y)\n",
    "    y = Dropout(0.2)(y)\n",
    "    y = BatchNormalization()(y)\n",
    "    \n",
    "    hid2 = Conv2D(64, kernel_size=3, strides=1, padding = 'same')(y)\n",
    "    hid2 = LeakyReLU()(hid2)\n",
    "    #hid2 = MaxPooling2D((2,2))(hid2)\n",
    "    hid2 = Dropout(0.2)(hid2)\n",
    "    hid2 = BatchNormalization()(hid2)\n",
    "    \n",
    "    res2 = Add()([hid2, y])\n",
    "    \n",
    "    hid2 = Conv2D(64, kernel_size=3, strides=1, padding = 'same')(res2)\n",
    "    hid2 = LeakyReLU()(hid2)\n",
    "    #hid2 = MaxPooling2D((2,2))(hid2)\n",
    "    hid2 = Dropout(0.2)(hid2)\n",
    "    hid2 = BatchNormalization()(hid2)\n",
    "    \n",
    "    \n",
    "    \n",
    "    hid = Flatten()(hid2)\n",
    "    hid = Dropout(0.2)(hid)\n",
    "    \n",
    "    validity = Dense(10, activation=\"softmax\")(hid)\n",
    "\n",
    "    return Model(img, validity)\n",
    "  \n",
    "  def train(self, x_train, y_train, x_val, y_val):\n",
    "    \n",
    "    history = self.model.fit(x_train,y_train,\n",
    "                             epochs = self.epochs,\n",
    "                             validation_data = (x_val, y_val))\n",
    "    self.plot_progress(history)\n",
    "    \n",
    "  def plot_progress(self, history):\n",
    "      history_dict = history.history\n",
    "      accuracy = history_dict['accuracy']\n",
    "      val_accuracy = history_dict['val_accuracy']\n",
    "      loss = history_dict['loss']\n",
    "      val_loss = history_dict['val_loss']\n",
    "\n",
    "      fig = plt.figure(figsize=(15,7))\n",
    "      plt.subplot(1,2,1)\n",
    "      plt.plot(range(self.epochs), accuracy, 'r', label = 'Train Accuracy')\n",
    "      plt.plot(range(self.epochs), val_accuracy, 'b', label = 'Validation Accuracy')\n",
    "      plt.legend()\n",
    "\n",
    "      plt.subplot(1,2,2)\n",
    "      plt.plot(range(self.epochs), loss, 'r', label = 'Train Loss')\n",
    "      plt.plot(range(self.epochs), val_loss, 'b', label = 'Validation Loss')\n",
    "\n",
    "      plt.legend()\n",
    "      plt.show()\n",
    "\n",
    "    \n",
    "    "
   ]
  },
  {
   "cell_type": "code",
   "execution_count": 26,
   "metadata": {
    "colab": {
     "base_uri": "https://localhost:8080/",
     "height": 51
    },
    "colab_type": "code",
    "id": "MxVLiwmQjOpy",
    "outputId": "265ccef5-af33-4d46-e26f-24151eed9b80"
   },
   "outputs": [
    {
     "name": "stdout",
     "output_type": "stream",
     "text": [
      "Tensor(\"batch_normalization_17/cond/Merge:0\", shape=(?, 16, 16, 32), dtype=float32)\n",
      "Tensor(\"add_3/add:0\", shape=(?, 16, 16, 32), dtype=float32)\n"
     ]
    }
   ],
   "source": [
    "res1 = cifar_residual_cnn()"
   ]
  },
  {
   "cell_type": "code",
   "execution_count": 27,
   "metadata": {
    "colab": {
     "base_uri": "https://localhost:8080/",
     "height": 1469
    },
    "colab_type": "code",
    "id": "49GNuFfljTsB",
    "outputId": "dfb5d270-eaa1-4c94-dca1-db56f0082283"
   },
   "outputs": [
    {
     "name": "stdout",
     "output_type": "stream",
     "text": [
      "Train on 40000 samples, validate on 10000 samples\n",
      "Epoch 1/30\n",
      "40000/40000 [==============================] - 231s 6ms/step - loss: 1.7372 - accuracy: 0.4487 - val_loss: 1.4103 - val_accuracy: 0.5350\n",
      "Epoch 2/30\n",
      "40000/40000 [==============================] - 224s 6ms/step - loss: 1.1864 - accuracy: 0.5926 - val_loss: 1.4310 - val_accuracy: 0.5089\n",
      "Epoch 3/30\n",
      "40000/40000 [==============================] - 223s 6ms/step - loss: 1.0179 - accuracy: 0.6450 - val_loss: 1.1127 - val_accuracy: 0.6036\n",
      "Epoch 4/30\n",
      "40000/40000 [==============================] - 221s 6ms/step - loss: 0.9296 - accuracy: 0.6762 - val_loss: 1.3425 - val_accuracy: 0.5672\n",
      "Epoch 5/30\n",
      "40000/40000 [==============================] - 226s 6ms/step - loss: 0.8711 - accuracy: 0.6955 - val_loss: 0.9480 - val_accuracy: 0.6706\n",
      "Epoch 6/30\n",
      "40000/40000 [==============================] - 222s 6ms/step - loss: 0.8298 - accuracy: 0.7120 - val_loss: 0.9669 - val_accuracy: 0.6718\n",
      "Epoch 7/30\n",
      "40000/40000 [==============================] - 220s 6ms/step - loss: 0.8042 - accuracy: 0.7200 - val_loss: 0.9566 - val_accuracy: 0.6790\n",
      "Epoch 8/30\n",
      "40000/40000 [==============================] - 219s 5ms/step - loss: 0.7761 - accuracy: 0.7306 - val_loss: 0.7519 - val_accuracy: 0.7443\n",
      "Epoch 9/30\n",
      "40000/40000 [==============================] - 224s 6ms/step - loss: 0.7547 - accuracy: 0.7377 - val_loss: 0.7490 - val_accuracy: 0.7405\n",
      "Epoch 10/30\n",
      "40000/40000 [==============================] - 220s 6ms/step - loss: 0.7365 - accuracy: 0.7429 - val_loss: 0.7644 - val_accuracy: 0.7349\n",
      "Epoch 11/30\n",
      "40000/40000 [==============================] - 219s 5ms/step - loss: 0.7145 - accuracy: 0.7527 - val_loss: 1.0020 - val_accuracy: 0.6625\n",
      "Epoch 12/30\n",
      "40000/40000 [==============================] - 225s 6ms/step - loss: 0.7044 - accuracy: 0.7532 - val_loss: 0.8961 - val_accuracy: 0.7028\n",
      "Epoch 13/30\n",
      "40000/40000 [==============================] - 213s 5ms/step - loss: 0.6915 - accuracy: 0.7606 - val_loss: 0.7540 - val_accuracy: 0.7425\n",
      "Epoch 14/30\n",
      "40000/40000 [==============================] - 227s 6ms/step - loss: 0.6788 - accuracy: 0.7635 - val_loss: 0.6837 - val_accuracy: 0.7687\n",
      "Epoch 15/30\n",
      "40000/40000 [==============================] - 259s 6ms/step - loss: 0.6722 - accuracy: 0.7650 - val_loss: 0.8401 - val_accuracy: 0.7119\n",
      "Epoch 16/30\n",
      "40000/40000 [==============================] - 242s 6ms/step - loss: 0.6591 - accuracy: 0.7697 - val_loss: 0.7290 - val_accuracy: 0.7535\n",
      "Epoch 17/30\n",
      "40000/40000 [==============================] - 237s 6ms/step - loss: 0.6468 - accuracy: 0.7741 - val_loss: 0.8564 - val_accuracy: 0.7199\n",
      "Epoch 18/30\n",
      "40000/40000 [==============================] - 229s 6ms/step - loss: 0.6441 - accuracy: 0.7765 - val_loss: 0.7304 - val_accuracy: 0.7468\n",
      "Epoch 19/30\n",
      "40000/40000 [==============================] - 235s 6ms/step - loss: 0.6325 - accuracy: 0.7782 - val_loss: 0.7024 - val_accuracy: 0.7657\n",
      "Epoch 20/30\n",
      "40000/40000 [==============================] - 245s 6ms/step - loss: 0.6279 - accuracy: 0.7817 - val_loss: 0.7146 - val_accuracy: 0.7576\n",
      "Epoch 21/30\n",
      "40000/40000 [==============================] - 241s 6ms/step - loss: 0.6162 - accuracy: 0.7843 - val_loss: 0.6818 - val_accuracy: 0.7649\n",
      "Epoch 22/30\n",
      "40000/40000 [==============================] - 216s 5ms/step - loss: 0.6156 - accuracy: 0.7863 - val_loss: 0.6590 - val_accuracy: 0.7754\n",
      "Epoch 23/30\n",
      "40000/40000 [==============================] - 210s 5ms/step - loss: 0.6076 - accuracy: 0.7879 - val_loss: 0.7648 - val_accuracy: 0.7433\n",
      "Epoch 24/30\n",
      "40000/40000 [==============================] - 210s 5ms/step - loss: 0.6045 - accuracy: 0.7885 - val_loss: 0.7353 - val_accuracy: 0.7528\n",
      "Epoch 25/30\n",
      "40000/40000 [==============================] - 212s 5ms/step - loss: 0.5944 - accuracy: 0.7938 - val_loss: 0.6902 - val_accuracy: 0.7673\n",
      "Epoch 26/30\n",
      "40000/40000 [==============================] - 209s 5ms/step - loss: 0.5938 - accuracy: 0.7932 - val_loss: 0.6809 - val_accuracy: 0.7722\n",
      "Epoch 27/30\n",
      "40000/40000 [==============================] - 209s 5ms/step - loss: 0.5902 - accuracy: 0.7958 - val_loss: 0.6159 - val_accuracy: 0.7933\n",
      "Epoch 28/30\n",
      "40000/40000 [==============================] - 213s 5ms/step - loss: 0.5819 - accuracy: 0.7996 - val_loss: 0.6862 - val_accuracy: 0.7670\n",
      "Epoch 29/30\n",
      "40000/40000 [==============================] - 212s 5ms/step - loss: 0.5768 - accuracy: 0.7995 - val_loss: 0.7479 - val_accuracy: 0.7607\n",
      "Epoch 30/30\n",
      "40000/40000 [==============================] - 210s 5ms/step - loss: 0.5765 - accuracy: 0.8002 - val_loss: 0.6593 - val_accuracy: 0.7807\n"
     ]
    },
    {
     "data": {
      "image/png": "[encoded data removed]",
      "text/plain": [
       "<Figure size 1080x504 with 2 Axes>"
      ]
     },
     "metadata": {
      "needs_background": "light"
     },
     "output_type": "display_data"
    }
   ],
   "source": [
    "res1.train(x_train, y_train, x_val, y_val)"
   ]
  },
  {
   "cell_type": "code",
   "execution_count": 0,
   "metadata": {
    "colab": {},
    "colab_type": "code",
    "id": "-PrMHvrBPVRL"
   },
   "outputs": [],
   "source": []
  }
 ],
 "metadata": {
  "accelerator": "GPU",
  "colab": {
   "name": "Cifar10_Assignment4.ipynb",
   "provenance": [],
   "version": "0.3.2"
  },
  "kernelspec": {
   "display_name": "Python 3",
   "language": "python",
   "name": "python3"
  },
  "language_info": {
   "codemirror_mode": {
    "name": "ipython",
    "version": 3
   },
   "file_extension": ".py",
   "mimetype": "text/x-python",
   "name": "python",
   "nbconvert_exporter": "python",
   "pygments_lexer": "ipython3",
   "version": "3.7.3"
  }
 },
 "nbformat": 4,
 "nbformat_minor": 1
}
