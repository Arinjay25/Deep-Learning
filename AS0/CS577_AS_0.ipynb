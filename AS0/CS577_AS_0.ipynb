{
 "cells": [
  {
   "cell_type": "code",
   "execution_count": null,
   "metadata": {},
   "outputs": [],
   "source": [
    "### Name: Arinjay Jain (A20447307)\n",
    "## Class: CS 577\n",
    "## Homework 0 "
   ]
  },
  {
   "cell_type": "code",
   "execution_count": 37,
   "metadata": {},
   "outputs": [],
   "source": [
    "%config IPCompleter.greedy=True\n",
    "#Part A\n",
    "import numpy as np\n",
    "A = np.array([1,2,3])\n",
    "B = np.array([4,5,6])\n",
    "C = np.array([-1,1,3])"
   ]
  },
  {
   "cell_type": "code",
   "execution_count": 38,
   "metadata": {},
   "outputs": [
    {
     "data": {
      "text/plain": [
       "array([-2, -1,  0])"
      ]
     },
     "execution_count": 38,
     "metadata": {},
     "output_type": "execute_result"
    }
   ],
   "source": [
    "#Question A-1\n",
    "np.dot(2,A) - B"
   ]
  },
  {
   "cell_type": "code",
   "execution_count": 60,
   "metadata": {},
   "outputs": [
    {
     "name": "stdout",
     "output_type": "stream",
     "text": [
      "3.7416573867739413\n"
     ]
    },
    {
     "data": {
      "text/plain": [
       "74.498640433063"
      ]
     },
     "execution_count": 60,
     "metadata": {},
     "output_type": "execute_result"
    }
   ],
   "source": [
    "#Question A-2\n",
    "megA = np.linalg.norm(A)\n",
    "print(megA)\n",
    "angleWithX = np.arccos(A[0]/megA)\n",
    "import math\n",
    "angleWithX*180/math.pi"
   ]
  },
  {
   "cell_type": "code",
   "execution_count": 61,
   "metadata": {},
   "outputs": [
    {
     "name": "stdout",
     "output_type": "stream",
     "text": [
      "[0.26726124 0.53452248 0.80178373]\n"
     ]
    }
   ],
   "source": [
    "#Question A-3\n",
    "A_hat = A/ megA\n",
    "print(A_hat)"
   ]
  },
  {
   "cell_type": "code",
   "execution_count": 62,
   "metadata": {},
   "outputs": [
    {
     "name": "stdout",
     "output_type": "stream",
     "text": [
      "[0.26726124 0.53452248 0.80178373]\n"
     ]
    }
   ],
   "source": [
    "#Question A-4\n",
    "#The coordinates of the unit vector is equal to its direction cosines.\n",
    "# Same as A_hat\n",
    "print(A_hat)"
   ]
  },
  {
   "cell_type": "code",
   "execution_count": 63,
   "metadata": {},
   "outputs": [
    {
     "name": "stdout",
     "output_type": "stream",
     "text": [
      "32\n"
     ]
    }
   ],
   "source": [
    "#Question A-5\n",
    "# Dot product of A.B = B.A because they are single row vector\n",
    "AB = np.dot(A,B)\n",
    "print(AB)"
   ]
  },
  {
   "cell_type": "code",
   "execution_count": 64,
   "metadata": {},
   "outputs": [
    {
     "name": "stdout",
     "output_type": "stream",
     "text": [
      "0.2257261285527342\n"
     ]
    },
    {
     "data": {
      "text/plain": [
       "12.933154491899135"
      ]
     },
     "execution_count": 64,
     "metadata": {},
     "output_type": "execute_result"
    }
   ],
   "source": [
    "#Question A-6\n",
    "angleAB = np.arccos(AB/(megA*np.linalg.norm(B)))\n",
    "print(angleAB)\n",
    "angleAB*180/math.pi"
   ]
  },
  {
   "cell_type": "code",
   "execution_count": 65,
   "metadata": {},
   "outputs": [
    {
     "name": "stdout",
     "output_type": "stream",
     "text": [
      "[ 3 -6  3]\n"
     ]
    }
   ],
   "source": [
    "#Question A-7\n",
    "print(BXA)\n",
    "#BXA is one of perpendicular vector of A"
   ]
  },
  {
   "cell_type": "code",
   "execution_count": 66,
   "metadata": {},
   "outputs": [
    {
     "name": "stdout",
     "output_type": "stream",
     "text": [
      "[-3  6 -3]\n",
      "[ 3 -6  3]\n"
     ]
    }
   ],
   "source": [
    "#Question A-8\n",
    "AXB = np.cross(A,B)\n",
    "print(AXB)\n",
    "BXA = np.cross(B,A)\n",
    "print(BXA)"
   ]
  },
  {
   "cell_type": "code",
   "execution_count": 67,
   "metadata": {},
   "outputs": [
    {
     "name": "stdout",
     "output_type": "stream",
     "text": [
      "[-3  6 -3]\n"
     ]
    }
   ],
   "source": [
    "#Question A-9\n",
    "# AXB is a perpendicular vector of A and B\n",
    "print(AXB)"
   ]
  },
  {
   "cell_type": "code",
   "execution_count": 68,
   "metadata": {},
   "outputs": [
    {
     "name": "stdout",
     "output_type": "stream",
     "text": [
      "7.494005416219837e-16\n",
      "There exists linear dependency between A, B and C as the determinant of the matrix is 0\n"
     ]
    }
   ],
   "source": [
    "#Question A-10\n",
    "mat = np.array([A,B,C])\n",
    "print(np.linalg.det(mat))\n",
    "print(\"There exists linear dependency between A, B and C as the determinant of the matrix is 0\")"
   ]
  },
  {
   "cell_type": "code",
   "execution_count": 94,
   "metadata": {},
   "outputs": [
    {
     "name": "stdout",
     "output_type": "stream",
     "text": [
      "[[32]]\n",
      "[[ 4  5  6]\n",
      " [ 8 10 12]\n",
      " [12 15 18]]\n"
     ]
    }
   ],
   "source": [
    "#Question A-11\n",
    "A.shape=(3,1)\n",
    "B.shape=(3,1)\n",
    "C.shape=(3,1)\n",
    "AT=A.transpose()\n",
    "ATB = np.dot(AT,B)\n",
    "print(ATB)\n",
    "BT = B.transpose()\n",
    "ABT = np.dot(A,BT)\n",
    "print(ABT)"
   ]
  },
  {
   "cell_type": "code",
   "execution_count": 14,
   "metadata": {},
   "outputs": [],
   "source": [
    "A = np.array([[1,2,3],[4,-2,3],[0,5,-1]])\n",
    "B = np.array([[1,2,1],[2,1,-4],[3,-2,1]])\n",
    "C = np.array([[1,2,3],[4,5,6],[-1,1,3]])"
   ]
  },
  {
   "cell_type": "code",
   "execution_count": 4,
   "metadata": {},
   "outputs": [
    {
     "data": {
      "text/plain": [
       "array([[ 1,  2,  5],\n",
       "       [ 6, -5, 10],\n",
       "       [-3, 12, -3]])"
      ]
     },
     "execution_count": 4,
     "metadata": {},
     "output_type": "execute_result"
    }
   ],
   "source": [
    "#Question B-1\n",
    "np.dot(2,A) - B"
   ]
  },
  {
   "cell_type": "code",
   "execution_count": 5,
   "metadata": {},
   "outputs": [
    {
     "name": "stdout",
     "output_type": "stream",
     "text": [
      "[[ 14  -2  -4]\n",
      " [  9   0  15]\n",
      " [  7   7 -21]]\n"
     ]
    }
   ],
   "source": [
    "#Question B-2\n",
    "# Dot product of A.B\n",
    "AB = np.dot(A,B)\n",
    "print(AB)"
   ]
  },
  {
   "cell_type": "code",
   "execution_count": 6,
   "metadata": {},
   "outputs": [
    {
     "name": "stdout",
     "output_type": "stream",
     "text": [
      "[[  9   3   8]\n",
      " [  6 -18  13]\n",
      " [ -5  15   2]]\n"
     ]
    }
   ],
   "source": [
    "# Dot product of B.A\n",
    "BA = np.dot(B,A)\n",
    "print(BA)"
   ]
  },
  {
   "cell_type": "code",
   "execution_count": 7,
   "metadata": {},
   "outputs": [
    {
     "name": "stdout",
     "output_type": "stream",
     "text": [
      "[[ 14   9   7]\n",
      " [ -2   0   7]\n",
      " [ -4  15 -21]]\n"
     ]
    }
   ],
   "source": [
    "#Question B-3\n",
    "# Dot product of (AB)T = BT.AT\n",
    "ABT = AB.transpose()\n",
    "print(ABT)"
   ]
  },
  {
   "cell_type": "code",
   "execution_count": 8,
   "metadata": {},
   "outputs": [
    {
     "name": "stdout",
     "output_type": "stream",
     "text": [
      "54.999999999999964\n",
      "7.494005416219837e-16\n"
     ]
    }
   ],
   "source": [
    "#Question B-4\n",
    "detA = np.linalg.det(A)\n",
    "print(detA)\n",
    "detC = np.linalg.det(C)\n",
    "print(detC)"
   ]
  },
  {
   "cell_type": "code",
   "execution_count": 18,
   "metadata": {},
   "outputs": [
    {
     "name": "stdout",
     "output_type": "stream",
     "text": [
      "Matrix the row vectors form an orthogonal set [[ 1  2  1]\n",
      " [ 2  1 -4]\n",
      " [ 3 -2  1]]\n"
     ]
    }
   ],
   "source": [
    "#Question B-5\n",
    "def orthogonal(A):\n",
    "    product = np.dot(A,A.T)\n",
    "    np.fill_diagonal(product,0)\n",
    "    if (product.any() == 0):\n",
    "        print(\"Matrix the row vectors form an orthogonal set\", A)\n",
    "orthogonal(A)\n",
    "orthogonal(B)\n",
    "orthogonal(C)"
   ]
  },
  {
   "cell_type": "code",
   "execution_count": 21,
   "metadata": {},
   "outputs": [
    {
     "name": "stdout",
     "output_type": "stream",
     "text": [
      "Inverse of matrix A: [[-0.23636364  0.30909091  0.21818182]\n",
      " [ 0.07272727 -0.01818182  0.16363636]\n",
      " [ 0.36363636 -0.09090909 -0.18181818]]\n",
      "Inverse of matrix B: [[ 0.16666667  0.0952381   0.21428571]\n",
      " [ 0.33333333  0.04761905 -0.14285714]\n",
      " [ 0.16666667 -0.19047619  0.07142857]]\n"
     ]
    }
   ],
   "source": [
    "#Question B-6\n",
    "invA = np.linalg.inv(A)\n",
    "print(\"Inverse of matrix A:\",invA)\n",
    "invB = np.linalg.inv(B)\n",
    "print(\"Inverse of matrix B:\",invB)"
   ]
  },
  {
   "cell_type": "code",
   "execution_count": 24,
   "metadata": {},
   "outputs": [],
   "source": [
    "#Part-C \n",
    "#Question C-1\n",
    "import numpy as np\n",
    "A = np.array([[1,2],[3,2]])\n",
    "B = np.array([[2,-2],[-2,5]])\n"
   ]
  },
  {
   "cell_type": "code",
   "execution_count": 26,
   "metadata": {},
   "outputs": [
    {
     "name": "stdout",
     "output_type": "stream",
     "text": [
      "[-1.  4.]\n",
      "[[-0.70710678 -0.5547002 ]\n",
      " [ 0.70710678 -0.83205029]]\n"
     ]
    }
   ],
   "source": [
    "e, v = np.linalg.eig(A)\n",
    "print(e)\n",
    "print(v)"
   ]
  },
  {
   "cell_type": "code",
   "execution_count": 27,
   "metadata": {},
   "outputs": [
    {
     "name": "stdout",
     "output_type": "stream",
     "text": [
      "[[-0.70710678 -0.5547002 ]\n",
      " [ 0.70710678 -0.83205029]]\n"
     ]
    }
   ],
   "source": [
    "V = v\n",
    "print(V)"
   ]
  },
  {
   "cell_type": "code",
   "execution_count": 30,
   "metadata": {},
   "outputs": [
    {
     "name": "stdout",
     "output_type": "stream",
     "text": [
      "[[-1.0000000e+00 -4.4408921e-16]\n",
      " [ 0.0000000e+00  4.0000000e+00]]\n"
     ]
    }
   ],
   "source": [
    "#Question C-2\n",
    "Vinv = np.linalg.inv(V)\n",
    "VinvA = np.dot(Vinv,A)\n",
    "VinvAV = np.dot(VinvA,V)\n",
    "print(VinvAV)"
   ]
  },
  {
   "cell_type": "code",
   "execution_count": 32,
   "metadata": {},
   "outputs": [
    {
     "name": "stdout",
     "output_type": "stream",
     "text": [
      "-0.038461538461538214\n"
     ]
    }
   ],
   "source": [
    "#Question C-3 dot product between the eigenvectors of A\n",
    "eigdotA = np.dot(V[0],V[1])\n",
    "print(eigdotA)"
   ]
  },
  {
   "cell_type": "code",
   "execution_count": 35,
   "metadata": {},
   "outputs": [
    {
     "name": "stdout",
     "output_type": "stream",
     "text": [
      "Eigin Value: [1. 6.]\n",
      "Dot Product between the eigenvectors of B: 0.0\n"
     ]
    }
   ],
   "source": [
    "#Question C-4 dot product between the eigenvectors of B\n",
    "eB, vB = np.linalg.eig(B)\n",
    "print(\"Eigin Value:\", eB)\n",
    "eigdotB = np.dot(vB[0],vB[1])\n",
    "print(\"Dot Product between the eigenvectors of B:\",eigdotB)"
   ]
  },
  {
   "cell_type": "code",
   "execution_count": 36,
   "metadata": {},
   "outputs": [
    {
     "name": "stdout",
     "output_type": "stream",
     "text": [
      "We can see dot between the eigenvectors of B is Zero, So we can say Eigen vectors are orthogonal to each other.\n"
     ]
    }
   ],
   "source": [
    "# Question C-5 #The property of the eigenvectors of B and its reason.\n",
    "print(\"We can see dot between the eigenvectors of B is Zero, So we can say Eigen vectors are orthogonal to each other.\")"
   ]
  },
  {
   "cell_type": "markdown",
   "metadata": {},
   "source": []
  }
 ],
 "metadata": {
  "kernelspec": {
   "display_name": "Python 3",
   "language": "python",
   "name": "python3"
  },
  "language_info": {
   "codemirror_mode": {
    "name": "ipython",
    "version": 3
   },
   "file_extension": ".py",
   "mimetype": "text/x-python",
   "name": "python",
   "nbconvert_exporter": "python",
   "pygments_lexer": "ipython3",
   "version": "3.7.3"
  }
 },
 "nbformat": 4,
 "nbformat_minor": 2
}
